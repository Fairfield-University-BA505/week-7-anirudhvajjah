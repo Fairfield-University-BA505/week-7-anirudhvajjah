{
 "cells": [
  {
   "cell_type": "markdown",
   "metadata": {},
   "source": [
    "# Python Review & Exercises\n",
    "\n",
    "These exercise questions are developed to help you review concepts and skills we covered in the first half of the class, where we prepare you to get started with following topics:\n",
    "\n",
    "- Variables, Statements, Expressions\n",
    "- Operators and Calculations\n",
    "- If statements\n",
    "- Function definitions and calls\n",
    "- Iterations (at least for loops)\n",
    "- strings\n",
    "- lists\n",
    "- dictionaries\n",
    "\n",
    "Remember that following questions require __more than one topics__ from above."
   ]
  },
  {
   "cell_type": "markdown",
   "metadata": {},
   "source": [
    "## Ground Rules\n",
    "\n",
    "Below rules define how this works:\n",
    "\n",
    "1. Please complete these questions in class, and if needed, after class, no later than __10/27__. You should submit the completed notebook back via Github Classroom.\n",
    "2. This is neither an exam nor an assignment - I will __NOT__ grade these. This is for you to test whether you are ready to move onto the next part of the class.\n",
    "3. Please __work with your peers__. You can learn much more if you work actively with your peers, by teaching each other. If you have not started doing so, this may be the perfect opportunity.\n",
    "4. Be __active__ in this class. I want to hear your opinions/soluions to problems below. So please speak up! This is a fair learning environment.\n",
    "5. Do __not__ try to copy code from others, include the Internet. The purpose is not to complete these questions, rather to test where your strengths and weaknesses are. Do not __fake__ it!\n",
    "\n",
    "Okay, rules are clear, let's start!"
   ]
  },
  {
   "cell_type": "markdown",
   "metadata": {},
   "source": [
    "## Q1. Code Explanation Problem\n",
    "\n",
    "#### Common Characters between Two Strings\n",
    "\n",
    "I was asked to develop a function (`common_char()`) to find out what common charaters are shared between two strings. I have provided two solutions to the problem. \n",
    "\n",
    "1. In solution 1 use a _one-liner_ for loop to solve the problem. Please write out the function in multiple lines (the regular for loop with an if statement) to make sure you understand how this works;\n",
    "2. In solution 2 I used something you have never seen in this class (__python sets__). In real world you may come across codes that you have never seen. Use Google to help you understand how _sets_ work in Python (__python sets__ might be a good search term for starters). Write you understanding in comments."
   ]
  },
  {
   "cell_type": "code",
   "execution_count": 1,
   "metadata": {
    "collapsed": false
   },
   "outputs": [
    {
     "data": {
      "text/plain": [
       "['a', 'b']"
      ]
     },
     "execution_count": 1,
     "metadata": {},
     "output_type": "execute_result"
    }
   ],
   "source": [
    "s1 = 'abc'\n",
    "s2 = 'bad'\n",
    "\n",
    "# solution 1\n",
    "def common_char1(s1, s2):\n",
    "    return [c1 for c1 in s1 if c1 in s2]\n",
    "    \n",
    "common_char1(s1, s2)"
   ]
  },
  {
   "cell_type": "code",
   "execution_count": 4,
   "metadata": {},
   "outputs": [
    {
     "data": {
      "text/plain": [
       "['a', 'b']"
      ]
     },
     "execution_count": 4,
     "metadata": {},
     "output_type": "execute_result"
    }
   ],
   "source": [
    "#creating an empty list\n",
    "res_lst = []\n",
    "for c1 in s1:\n",
    "    if c1 in s2:\n",
    "        #print (c1)\n",
    "        res_lst.append(c1)\n",
    "        #adding the data to the empty list that we created in the starting.\n",
    "    else:\n",
    "        pass\n",
    "res_lst"
   ]
  },
  {
   "cell_type": "code",
   "execution_count": 10,
   "metadata": {},
   "outputs": [
    {
     "data": {
      "text/plain": [
       "['a', 'b']"
      ]
     },
     "execution_count": 10,
     "metadata": {},
     "output_type": "execute_result"
    }
   ],
   "source": [
    "def common_char3():\n",
    "    res_lst = []\n",
    "    for c1 in s1:\n",
    "        if c1 in s2:\n",
    "            #print (c1)\n",
    "            res_lst.append(c1)\n",
    "            #adding the data to the empty list that we created in the starting.\n",
    "        else:\n",
    "            pass\n",
    "    return res_lst\n",
    "common_char3()"
   ]
  },
  {
   "cell_type": "code",
   "execution_count": 14,
   "metadata": {},
   "outputs": [
    {
     "data": {
      "text/plain": [
       "['a', 'b', 'c']"
      ]
     },
     "execution_count": 14,
     "metadata": {},
     "output_type": "execute_result"
    }
   ],
   "source": [
    "s3 = 'abc'\n",
    "def common_char3(s1, s2):\n",
    "    res_lst = []\n",
    "    for x in s3:\n",
    "        if x in s1:\n",
    "            #print (x)\n",
    "            res_lst.append(x)\n",
    "            #adding the data to the empty list that we created in the starting.\n",
    "        else:\n",
    "            pass\n",
    "    return res_lst\n",
    "common_char3(s1, s2)"
   ]
  },
  {
   "cell_type": "code",
   "execution_count": 16,
   "metadata": {},
   "outputs": [
    {
     "data": {
      "text/plain": [
       "['b', 'a']"
      ]
     },
     "execution_count": 16,
     "metadata": {},
     "output_type": "execute_result"
    }
   ],
   "source": [
    "s3 = 'abc'\n",
    "def common_char3(x, y):\n",
    "    res_lst = []\n",
    "    for x in s2:\n",
    "        if x in s1:\n",
    "            #print (x)\n",
    "            res_lst.append(x)\n",
    "            #adding the data to the empty list that we created in the starting.\n",
    "        else:\n",
    "            pass\n",
    "    return res_lst\n",
    "common_char3(s1, s2)"
   ]
  },
  {
   "cell_type": "code",
   "execution_count": 17,
   "metadata": {},
   "outputs": [
    {
     "data": {
      "text/plain": [
       "['b', 'a']"
      ]
     },
     "execution_count": 17,
     "metadata": {},
     "output_type": "execute_result"
    }
   ],
   "source": [
    "s3 = 'abc'\n",
    "def common_char3(x, y):\n",
    "    res_lst = []\n",
    "    for c in y:\n",
    "        if c in x:\n",
    "            #print (c)\n",
    "            res_lst.append(c)\n",
    "            #adding the data to the empty list that we created in the starting.\n",
    "        else:\n",
    "            pass\n",
    "    return res_lst\n",
    "common_char3(s1, s2)"
   ]
  },
  {
   "cell_type": "code",
   "execution_count": 20,
   "metadata": {},
   "outputs": [
    {
     "data": {
      "text/plain": [
       "['x', 'y']"
      ]
     },
     "execution_count": 20,
     "metadata": {},
     "output_type": "execute_result"
    }
   ],
   "source": [
    "s3 = 'abc'\n",
    "def common_char3(x, y):\n",
    "    res_lst = []\n",
    "    for c in y:\n",
    "        if c in x:\n",
    "            #print (x)\n",
    "            res_lst.append(c)\n",
    "            #adding the data to the empty list that we created in the starting.\n",
    "        else:\n",
    "            pass\n",
    "    return res_lst\n",
    "common_char3('xyz', 'axy')"
   ]
  },
  {
   "cell_type": "code",
   "execution_count": 12,
   "metadata": {},
   "outputs": [
    {
     "data": {
      "text/plain": [
       "['a', 'b', 'c']"
      ]
     },
     "execution_count": 12,
     "metadata": {},
     "output_type": "execute_result"
    }
   ],
   "source": [
    "s3 = 'abc'\n",
    "def common_char3():\n",
    "    res_lst = []\n",
    "    for c1 in s3:\n",
    "        if c1 in s1:\n",
    "            #print (c1)\n",
    "            res_lst.append(c1)\n",
    "            #adding the data to the empty list that we created in the starting.\n",
    "        else:\n",
    "            pass\n",
    "    return res_lst\n",
    "common_char3()"
   ]
  },
  {
   "cell_type": "code",
   "execution_count": 2,
   "metadata": {
    "collapsed": false
   },
   "outputs": [
    {
     "data": {
      "text/plain": [
       "['b', 'a']"
      ]
     },
     "execution_count": 2,
     "metadata": {},
     "output_type": "execute_result"
    }
   ],
   "source": [
    "def common_char2(s1, s2):\n",
    "    return list(set(s1) & set(s2))\n",
    "\n",
    "common_char2(s1, s2)"
   ]
  },
  {
   "cell_type": "code",
   "execution_count": null,
   "metadata": {},
   "outputs": [],
   "source": []
  },
  {
   "cell_type": "markdown",
   "metadata": {},
   "source": [
    "## Q2. Coding Problem\n",
    "\n",
    "Given any list of integers, write a function (`sort_even()`) to sort any even numbers in a sub-list, leave all odd numbers unsorted in another sub-list.\n",
    "\n",
    "#### Example:\n",
    "- sort_even([4, 3, 2, 1, 6]) --> [[2, 4, 6], [3, 1]]\n",
    "- sort_even([4, 2]) --> [[2, 4], []]\n",
    "- sort_even([3, 1] --> [[], [3, 1]]\n",
    "- sort_even([]) --> []\n",
    "\n",
    "#### HINTS:\n",
    "\n",
    "- Clearly we want to treat odd and even numbers separately - maybe two lists to hold the two parts?\n",
    "- You may want to go through the list using a loop."
   ]
  },
  {
   "cell_type": "code",
   "execution_count": 9,
   "metadata": {
    "collapsed": true
   },
   "outputs": [
    {
     "name": "stdout",
     "output_type": "stream",
     "text": [
      "[[2, 4, 6], [3, 1]]\n",
      "sort_even [4, 3, 2, 1, 6] --> [[2, 4, 6], [3, 1]]\n"
     ]
    }
   ],
   "source": [
    "# Write your code here\n",
    "lst = [4,3,2,1,6]\n",
    "even_lst=[]\n",
    "odd_lst=[]\n",
    "for x in lst:\n",
    "    if x % 2 == 0:\n",
    "        even_lst.append(x)\n",
    "        #even_lst.sort() #option - we can add sort here\n",
    "    else:\n",
    "        odd_lst.append(x)\n",
    "    #even_lst.sort() #option - we can add sort here\n",
    "even_lst.sort() # we can add sort here which is ideal place to do.\n",
    "print([even_lst,odd_lst])\n",
    "print(\"sort_even\",lst,\"-->\",[even_lst,odd_lst])"
   ]
  },
  {
   "cell_type": "code",
   "execution_count": 10,
   "metadata": {},
   "outputs": [
    {
     "data": {
      "text/plain": [
       "([[2, 4, 6]], [[3, 1]])"
      ]
     },
     "execution_count": 10,
     "metadata": {},
     "output_type": "execute_result"
    }
   ],
   "source": [
    "# Write your code here\n",
    "#lst = [4,3,2,1,6]\n",
    "def sort_even(lst):\n",
    "    even_lst=[]\n",
    "    odd_lst=[]\n",
    "    for x in lst:\n",
    "        if x % 2 == 0:\n",
    "            even_lst.append(x)\n",
    "            #even_lst.sort() #option - we can add sort here\n",
    "        else:\n",
    "            odd_lst.append(x)\n",
    "        #even_lst.sort() #option - we can add sort here\n",
    "    even_lst.sort() # we can add sort here which is ideal place to do.\n",
    "    return ([even_lst],[odd_lst])\n",
    "sort_even([4,3,2,1,6])"
   ]
  },
  {
   "cell_type": "code",
   "execution_count": 11,
   "metadata": {},
   "outputs": [
    {
     "data": {
      "text/plain": [
       "([[2, 4, 6, 8, 14, 20]], [[21, 11, 1, 9, 15]])"
      ]
     },
     "execution_count": 11,
     "metadata": {},
     "output_type": "execute_result"
    }
   ],
   "source": [
    "# Write your code here\n",
    "#lst = [4,3,2,1,6]\n",
    "jupiter = [20,21,11,6,8,4,2,1,9,14,15]\n",
    "def sort_even(lst):\n",
    "    even_lst=[]\n",
    "    odd_lst=[]\n",
    "    for x in lst:\n",
    "        if x % 2 == 0:\n",
    "            even_lst.append(x)\n",
    "            #even_lst.sort() #option - we can add sort here\n",
    "        else:\n",
    "            odd_lst.append(x)\n",
    "        #even_lst.sort() #option - we can add sort here\n",
    "    even_lst.sort() # we can add sort here which is ideal place to do.\n",
    "    return ([even_lst],[odd_lst])\n",
    "sort_even(jupiter)"
   ]
  },
  {
   "cell_type": "raw",
   "metadata": {},
   "source": [
    "## Q3. Coding Problem\n",
    "\n",
    "Given a list of integers, write a function(`pair_func()`) that pairs the first number in an array with the last, the second number with the second to last, etc.\n",
    "\n",
    "#### HINTS: \n",
    "- If the list has an __odd length__, __repeat__ the middle element twice for the last pair.\n",
    "- Return an empty list if the input is an empty list.\n",
    "- Note that the result is a list of lists - so the returned `result_lst` should contain sub lists called `pairs`.\n",
    "\n",
    "#### Examples:\n",
    "- pair_func([1, 2, 3, 4, 5, 6, 7]) ➞ [[1, 7], [2, 6], [3, 5], [4, 4]]\n",
    "- pair_func([1, 2, 3, 4, 5, 6]) ➞ [[1, 6], [2, 5], [3, 4]]\n",
    "- pair_func([5, 9, 8, 1, 2]) ➞ [[5, 2], [9, 1], [8, 8]]\n",
    "- pair_func([]) ➞ []"
   ]
  },
  {
   "cell_type": "code",
   "execution_count": 2,
   "metadata": {
    "collapsed": true
   },
   "outputs": [
    {
     "ename": "SyntaxError",
     "evalue": "'return' outside function (<ipython-input-2-51894405ef31>, line 17)",
     "output_type": "error",
     "traceback": [
      "\u001b[0;36m  File \u001b[0;32m\"<ipython-input-2-51894405ef31>\"\u001b[0;36m, line \u001b[0;32m17\u001b[0m\n\u001b[0;31m    return(pair_lst)\u001b[0m\n\u001b[0m                    ^\u001b[0m\n\u001b[0;31mSyntaxError\u001b[0m\u001b[0;31m:\u001b[0m 'return' outside function\n"
     ]
    }
   ],
   "source": [
    "# write you code here\n",
    "lst=[1,2,3,4,5,6,7,8]\n",
    "pair_lst=[]\n",
    "ele1 = lst[0]\n",
    "ele2 = lst[-1]\n",
    "\n",
    "if len(lst)%2==0:\n",
    "    for i in range(0,int(len(lst)/2)):\n",
    "        #print([lst[i],lst[-i-1]])\n",
    "        pair_lst.append([lst[i],lst[-i-1]])\n",
    "                \n",
    "else:\n",
    "     for i in range(0,int(len(lst)/2)+1):\n",
    "        #print([lst[i],lst[-i-1]])\n",
    "        pair_lst.append([lst[i],lst[-i-1]])\n",
    "\n",
    "return(pair_lst)"
   ]
  },
  {
   "cell_type": "code",
   "execution_count": 3,
   "metadata": {},
   "outputs": [
    {
     "data": {
      "text/plain": [
       "[[1, 9], [2, 8], [3, 7], [4, 6], [5, 5]]"
      ]
     },
     "execution_count": 3,
     "metadata": {},
     "output_type": "execute_result"
    }
   ],
   "source": [
    "# write you code here\n",
    "jupiter=[1,2,3,4,5,6,7,8,9]\n",
    "pair_lst=[]\n",
    "ele1 = lst[0]\n",
    "ele2 = lst[-1]\n",
    "\n",
    "def pair_func(lst):\n",
    "    if len(lst)%2==0:\n",
    "        for i in range(0,int(len(lst)/2)):\n",
    "            #print([lst[i],lst[-i-1]])\n",
    "            pair_lst.append([lst[i],lst[-i-1]])\n",
    "                \n",
    "    else:\n",
    "         for i in range(0,int(len(lst)/2)+1):\n",
    "            #print([lst[i],lst[-i-1]])\n",
    "            pair_lst.append([lst[i],lst[-i-1]])\n",
    "\n",
    "    return(pair_lst)\n",
    "pair_func(jupiter)"
   ]
  },
  {
   "cell_type": "markdown",
   "metadata": {},
   "source": [
    "## Q4. Coding Problem\n",
    "\n",
    "You work for a manufacturer, and have been asked to write a function (`profit_calc`) to calculate the _total profit_ made on the sales of a product.\n",
    "\n",
    "- You need to create a dictionary containing the cost price per unit (in dollars), sell price per unit (in dollars), and the starting inventory. The values in the dictionary should be __user inputs__.\n",
    "\n",
    "- Return the total profit made, rounded to the _nearest cent_ (2 digits after the decimal point). Assume __all of the inventory has been sold__.\n",
    "\n",
    "- Please insert the result from the function back to the original dictionary, use the key as `'profit'`.\n",
    "\n",
    "#### Example Dictionary:\n",
    "```python\n",
    "prod_dict = {\n",
    "  \"cost_price\": 32.67,\n",
    "  \"sell_price\": 45.00,\n",
    "  \"inventory\": 1200\n",
    "}\n",
    "```\n",
    "\n",
    "\n",
    "#### Example Output:\n",
    "```python\n",
    "# profit_calc(prod_dict) =  14796\n",
    "\n",
    "prod_dict = {\n",
    "  \"cost_price\": 32.67,\n",
    "  \"sell_price\": 45.00,\n",
    "  \"inventory\": 1200,\n",
    "  \"profit\": 14796\n",
    "}\n",
    "```\n",
    "\n",
    "#### HINT: \n",
    "$profit = (v2 - v1) \\times v3$"
   ]
  },
  {
   "cell_type": "code",
   "execution_count": 29,
   "metadata": {
    "collapsed": false
   },
   "outputs": [],
   "source": [
    "# write you code here\n",
    "def profit_calc():\n",
    "    \n",
    "    cp = float(input(\"Enter the cost_price of the product: \"))\n",
    "    sp = float(input(\"Enter the sell_price of the product: \"))\n",
    "    inv = int(input(\"Enter the starting inventory of the product: \"))\n",
    "\n",
    "    prod_dict = {\"cost_price\": cp,\n",
    "                 \"sell_price\": sp,\n",
    "                 \"inventory\": inv}\n",
    "    \n",
    "    prod_dict[\"profit\"] = round(((prod_dict[\"sell_price\"] - prod_dict[\"cost_price\"]) * prod_dict[\"inventory\"]),2)\n",
    "    \n",
    "    return(prod_dict)"
   ]
  },
  {
   "cell_type": "code",
   "execution_count": 30,
   "metadata": {},
   "outputs": [
    {
     "name": "stdin",
     "output_type": "stream",
     "text": [
      "Enter the cost_price of the product:  32.67\n",
      "Enter the sell_price of the product:  45.00\n",
      "Enter the starting inventory of the product:  1200\n"
     ]
    },
    {
     "name": "stdout",
     "output_type": "stream",
     "text": [
      "{'cost_price': 32.67, 'sell_price': 45.0, 'inventory': 1200, 'profit': 14796.0}\n"
     ]
    }
   ],
   "source": [
    "print(profit_calc())"
   ]
  },
  {
   "cell_type": "markdown",
   "metadata": {},
   "source": [
    "## Q5. Coding Problem\n",
    "\n",
    "You are tasked to write a function (`findall_lst()`) to find __all__ the indexes of the searched item in a list. \n",
    "\n",
    "We know we can use `.find()` method to search a list, but it will only return the __first__ index not __all__ of them.\n",
    "\n",
    "#### Examples: \n",
    "- findall_lst(([\"a\", \"a\", \"b\", \"a\", \"b\", \"a\"], \"a\") ➞ [0, 1, 3, 5]\n",
    "- findall_lst([1, 5, 5, 2, 7], 7) ➞ [4]\n",
    "- findall_lst([1, 5, 5, 2, 7], 8) ➞ []"
   ]
  },
  {
   "cell_type": "code",
   "execution_count": 21,
   "metadata": {
    "collapsed": false
   },
   "outputs": [
    {
     "name": "stdin",
     "output_type": "stream",
     "text": [
      "Enter the number of elements in your list:  5\n",
      "Enter the element:  1\n",
      "Enter the element:  2\n",
      "Enter the element:  3\n",
      "Enter the element:  1\n",
      "Enter the element:  1\n",
      "Enter the element you want to search the index for:  1\n"
     ]
    },
    {
     "name": "stdout",
     "output_type": "stream",
     "text": [
      "my_lst:  ['1', '2', '3', '1', '1']\n",
      "search_element:  1\n"
     ]
    }
   ],
   "source": [
    "# create variables to hold the list for search as `my_lst`\n",
    "# and to hold the element to search as `my_search`\n",
    "my_lst = []\n",
    "i = int(input(\"Enter the number of elements in your list: \")) # Entering the number of elements in the list for the 'for loop'\n",
    "a = 1\n",
    "while a <= i:\n",
    "    enter_element =  input(\"Enter the element: \")\n",
    "    my_lst.append(enter_element)\n",
    "    a = a+1\n",
    "    \n",
    "my_search = input(\"Enter the element you want to search the index for: \")\n",
    "\n",
    "print(\"my_lst: \", my_lst)\n",
    "print(\"search_element: \", my_search)\n",
    "\n"
   ]
  },
  {
   "cell_type": "code",
   "execution_count": 25,
   "metadata": {
    "collapsed": true
   },
   "outputs": [],
   "source": [
    "# since the results are lists\n",
    "# initialize an empty list `search_results` to hold results\n",
    "search_results = []\n"
   ]
  },
  {
   "cell_type": "code",
   "execution_count": 26,
   "metadata": {
    "collapsed": true
   },
   "outputs": [
    {
     "name": "stdout",
     "output_type": "stream",
     "text": [
      "[0, 3, 4]\n"
     ]
    }
   ],
   "source": [
    "# since we need 'all' of something, we need a loop\n",
    "# iterate through `my_lst` to search for `my_search`\n",
    "# remember to retrive the index(es) from the list\n",
    "# update the `search_results` when you have a hit (found) - you should consider using `.append()`\n",
    "for x in range(0,len(my_lst)):\n",
    "    if my_lst[x] == my_search:\n",
    "        search_results.append(x)\n",
    "\n",
    "print(search_results)\n",
    "\n"
   ]
  },
  {
   "cell_type": "code",
   "execution_count": 31,
   "metadata": {
    "collapsed": true
   },
   "outputs": [],
   "source": [
    "# Put everything together as a function\n",
    "def findall_lst():\n",
    "    my_lst = []\n",
    "    i = int(input(\"Enter the number of elements in your list: \")) # Entering the number of elements in the list for the 'for loop'\n",
    "    a = 1\n",
    "    while a <= i:\n",
    "        enter_element =  input(\"Enter the element: \")\n",
    "        my_lst.append(enter_element)\n",
    "        a = a+1\n",
    "    \n",
    "    my_search = input(\"Enter the element you want to search the index for: \")\n",
    "\n",
    "    print(\"my_lst: \", my_lst)\n",
    "    print(\"search_element: \", my_search)\n",
    "\n",
    "    search_results = []\n",
    "    \n",
    "    for x in range(0,len(my_lst)):\n",
    "        if my_lst[x] == my_search:\n",
    "            search_results.append(x)\n",
    "    \n",
    "    return(search_results)\n"
   ]
  },
  {
   "cell_type": "code",
   "execution_count": 32,
   "metadata": {},
   "outputs": [
    {
     "name": "stdin",
     "output_type": "stream",
     "text": [
      "Enter the number of elements in your list:  5\n",
      "Enter the element:  q\n",
      "Enter the element:  a\n",
      "Enter the element:  e\n",
      "Enter the element:  a\n",
      "Enter the element:  d\n",
      "Enter the element you want to search the index for:  a\n"
     ]
    },
    {
     "name": "stdout",
     "output_type": "stream",
     "text": [
      "my_lst:  ['q', 'a', 'e', 'a', 'd']\n",
      "search_element:  a\n",
      "[1, 3]\n"
     ]
    }
   ],
   "source": [
    "print(findall_lst())"
   ]
  },
  {
   "cell_type": "markdown",
   "metadata": {},
   "source": [
    "## Q6. Coding Problem\n",
    "\n",
    "### The Karaca's Encryption Algorithm:\n",
    "\n",
    "Make a function (`karaca_encoder`) that encrypts a given input with these steps:\n",
    "\n",
    "- Input: `'Apple'` # you should test that all inputs are strings\n",
    "- Step 1: set everything to lowercase and reverse the string `'elppa'`, code snippet below can help with reversing a string:\n",
    "```python\n",
    "s = 'abc'\n",
    "''.join(reversed(s))  # 'cba'\n",
    "```\n",
    "\n",
    "- Step 2: replace all vowels using following table, so the input becomes `'1lpp0'`:\n",
    "\n",
    "| vowel | code |\n",
    "| ----- | ---- |\n",
    "| a | 0 |\n",
    "| e | 1 |\n",
    "| i | 2 |\n",
    "| o | 3 |\n",
    "| u | 4 |\n",
    "\n",
    "\n",
    "- Step 3: add `'aca'` to the end of the string, so the string becomes `'1lpp0aca'`\n",
    "- Voila! Return this string `'1lpp0aca'` as the encoded.\n",
    "\n",
    "#### Examples:\n",
    "- karaca_encoder(\"banana\") ➞ \"0n0n0baca\"\n",
    "- karaca_encoder(\"karaca\") ➞ \"0c0r0kaca\"\n",
    "- karaca_encoder(\"burak\") ➞ \"k0r3baca\"\n",
    "- karaca_encoder(\"alpaca\") ➞ \"0c0pl0aca\""
   ]
  },
  {
   "cell_type": "code",
   "execution_count": 83,
   "metadata": {},
   "outputs": [],
   "source": [
    "def karaca_encoder(my_string):\n",
    "    rev_str = ''.join(reversed(my_string))\n",
    "    low_str = rev_str.lower()\n",
    "    \n",
    "    encode_list = {'a': 0, 'e': 1, 'i': 2, 'o': 3, 'u': 4}\n",
    "    \n",
    "    len_str = len(low_str)\n",
    "    encoded_string1 = ''\n",
    "    \n",
    "    for letter in low_str:\n",
    "        for x in encode_list:\n",
    "            if letter == x:\n",
    "                append_letter = encode_list.get(x)\n",
    "                encoded_string2 = encoded_string1 + encoded_string1.join(str(append_letter))\n",
    "                \n",
    "    #print(encoded_string1)\n",
    "    \n",
    "    return(encoded_string2)\n",
    "                \n",
    "                \n",
    "            \n",
    "            "
   ]
  },
  {
   "cell_type": "code",
   "execution_count": 84,
   "metadata": {
    "collapsed": true
   },
   "outputs": [
    {
     "data": {
      "text/plain": [
       "'0'"
      ]
     },
     "execution_count": 84,
     "metadata": {},
     "output_type": "execute_result"
    }
   ],
   "source": [
    "# Write your code here\n",
    "karaca_encoder(\"Apple\")"
   ]
  },
  {
   "cell_type": "markdown",
   "metadata": {},
   "source": [
    "# Q7. Coding Problem\n",
    "## Closed Brackets Detector - Extra Problem\n",
    "_if you want a little tease, this is a real interview question_. This problem will require you to put everything you learned so far in this class together.\n",
    "\n",
    "You have noticed that Jupyter can help you detect unclosed parentheses, for instance:\n",
    "```python\n",
    "list(str(type(x for x in range(l))) \n",
    "```\n",
    "will give you an error.\n",
    "\n",
    "In this question, you are going to replicate a simpler example of it.\n",
    "\n",
    "Your task in this exercise is as follows (two functions, one embed in another):\n",
    "\n",
    "1. Create a function that generates a string with N opening brackets (`[`) and N closing brackets (`]`), in some arbitrary order.\n",
    "2. Create a function that determines whether the generated string is balanced; that is, whether it consists entirely of pairs of opening/closing brackets (in that order), none of which mis-nest.\n",
    "\n",
    "Requirements:\n",
    "* Your test sequence of brackets need to be (`2,20`) digits long.\n",
    "* You need to generate at least `8` sequences \n",
    "\n",
    "Expected Output:\n",
    "```\n",
    "   []        OK   ][        NOT OK\n",
    "   [][]      OK   ][][      NOT OK\n",
    "   [[][]]    OK   []][[]    NOT OK\n",
    "```"
   ]
  },
  {
   "cell_type": "code",
   "execution_count": null,
   "metadata": {
    "collapsed": true
   },
   "outputs": [],
   "source": [
    "# Write your code here\n",
    "\n"
   ]
  }
 ],
 "metadata": {
  "kernelspec": {
   "display_name": "Python 3",
   "language": "python",
   "name": "python3"
  },
  "language_info": {
   "codemirror_mode": {
    "name": "ipython",
    "version": 3
   },
   "file_extension": ".py",
   "mimetype": "text/x-python",
   "name": "python",
   "nbconvert_exporter": "python",
   "pygments_lexer": "ipython3",
   "version": "3.6.7"
  }
 },
 "nbformat": 4,
 "nbformat_minor": 2
}
